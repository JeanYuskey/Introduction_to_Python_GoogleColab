{
  "nbformat": 4,
  "nbformat_minor": 0,
  "metadata": {
    "colab": {
      "provenance": []
    },
    "kernelspec": {
      "name": "python3",
      "display_name": "Python 3"
    },
    "language_info": {
      "name": "python"
    }
  },
  "cells": [
    {
      "cell_type": "markdown",
      "source": [
        "**Exibição de um string carcatere a caractere**"
      ],
      "metadata": {
        "id": "mneM1NXWfFmG"
      }
    },
    {
      "cell_type": "code",
      "source": [
        "#Usando while\n",
        "i=0\n",
        "texto=input(\"Digite um texto: \")\n",
        "while i < len(texto):\n",
        "  print(\"Posição [{0}]: {1}\".format(i,texto[i]))\n",
        "  i+=1"
      ],
      "metadata": {
        "id": "tFs6wcVTfEdG",
        "colab": {
          "base_uri": "https://localhost:8080/"
        },
        "outputId": "5c91be6e-5918-42d0-a597-897a4988fac4"
      },
      "execution_count": 1,
      "outputs": [
        {
          "output_type": "stream",
          "name": "stdout",
          "text": [
            "Digite um texto: Aulla abcdef\n",
            "Posição [0]: A\n",
            "Posição [1]: u\n",
            "Posição [2]: l\n",
            "Posição [3]: l\n",
            "Posição [4]: a\n",
            "Posição [5]:  \n",
            "Posição [6]: a\n",
            "Posição [7]: b\n",
            "Posição [8]: c\n",
            "Posição [9]: d\n",
            "Posição [10]: e\n",
            "Posição [11]: f\n"
          ]
        }
      ]
    },
    {
      "cell_type": "code",
      "source": [
        "#Usando for\n",
        "texto=input(\"Digite um texto: \")\n",
        "for i in range (len(texto)):\n",
        "  print(\"Posição [{0}]: {1}\".format(i,texto[i]))"
      ],
      "metadata": {
        "id": "hhDi67zJgGOs",
        "colab": {
          "base_uri": "https://localhost:8080/"
        },
        "outputId": "fe4efd61-81b9-44e8-b620-fe213bc252cf"
      },
      "execution_count": 2,
      "outputs": [
        {
          "output_type": "stream",
          "name": "stdout",
          "text": [
            "Digite um texto: Aula 1234567abc\n",
            "Posição [0]: A\n",
            "Posição [1]: u\n",
            "Posição [2]: l\n",
            "Posição [3]: a\n",
            "Posição [4]:  \n",
            "Posição [5]: 1\n",
            "Posição [6]: 2\n",
            "Posição [7]: 3\n",
            "Posição [8]: 4\n",
            "Posição [9]: 5\n",
            "Posição [10]: 6\n",
            "Posição [11]: 7\n",
            "Posição [12]: a\n",
            "Posição [13]: b\n",
            "Posição [14]: c\n"
          ]
        }
      ]
    },
    {
      "cell_type": "code",
      "source": [
        "a=\"1\"\n",
        "b=\"1\"\n",
        "soma=a+b\n",
        "print(soma)"
      ],
      "metadata": {
        "colab": {
          "base_uri": "https://localhost:8080/"
        },
        "id": "6GncoK_lMslC",
        "outputId": "06bd837a-2310-46e9-f5af-b0d2c9624cf5"
      },
      "execution_count": 3,
      "outputs": [
        {
          "output_type": "stream",
          "name": "stdout",
          "text": [
            "11\n"
          ]
        }
      ]
    },
    {
      "cell_type": "markdown",
      "source": [
        "**Concatenação e Multiplicação de String**"
      ],
      "metadata": {
        "id": "LJ39FdabeJWu"
      }
    },
    {
      "cell_type": "code",
      "execution_count": 7,
      "metadata": {
        "id": "Hw7m8tG_eIgL",
        "colab": {
          "base_uri": "https://localhost:8080/"
        },
        "outputId": "af9bebcc-f25f-4a9f-b317-165a528b3bf2"
      },
      "outputs": [
        {
          "output_type": "stream",
          "name": "stdout",
          "text": [
            "AprendendoPython\n",
            "Aprendendo Python\n",
            "Aprendendo Python - Aprendendo Python - Aprendendo Python - \n",
            "Primeiro string: 10 caracteres\n",
            "Segundo string: 6 caracteres\n"
          ]
        }
      ],
      "source": [
        "string1 = \"Aprendendo\"\n",
        "string2 = \"Python\"\n",
        "print(string1+string2)\n",
        "print(string1+\" \"+string2)\n",
        "print(3*(string1+\" \"+string2 + \" - \"))\n",
        "print(\"Primeiro string: {} caracteres\".format(len(string1)))\n",
        "print(\"Segundo string: {} caracteres\".format(len(string2)))"
      ]
    },
    {
      "cell_type": "markdown",
      "source": [
        "**Métodos para Manipular strings**"
      ],
      "metadata": {
        "id": "AT0p5m_kgcxM"
      }
    },
    {
      "cell_type": "code",
      "source": [
        "texto=\"python\"\n",
        "print(texto[2])\n",
        "texto[2]=\"i\"\n",
        "print(texto)\n"
      ],
      "metadata": {
        "colab": {
          "base_uri": "https://localhost:8080/",
          "height": 235
        },
        "id": "zwszehChQmOe",
        "outputId": "4c7c3804-800d-4650-8e05-b23260e287a6"
      },
      "execution_count": 17,
      "outputs": [
        {
          "output_type": "stream",
          "name": "stdout",
          "text": [
            "t\n"
          ]
        },
        {
          "output_type": "error",
          "ename": "TypeError",
          "evalue": "ignored",
          "traceback": [
            "\u001b[0;31m---------------------------------------------------------------------------\u001b[0m",
            "\u001b[0;31mTypeError\u001b[0m                                 Traceback (most recent call last)",
            "\u001b[0;32m<ipython-input-17-b056eeddc3a5>\u001b[0m in \u001b[0;36m<module>\u001b[0;34m\u001b[0m\n\u001b[1;32m      1\u001b[0m \u001b[0mtexto\u001b[0m\u001b[0;34m=\u001b[0m\u001b[0;34m\"python\"\u001b[0m\u001b[0;34m\u001b[0m\u001b[0;34m\u001b[0m\u001b[0m\n\u001b[1;32m      2\u001b[0m \u001b[0mprint\u001b[0m\u001b[0;34m(\u001b[0m\u001b[0mtexto\u001b[0m\u001b[0;34m[\u001b[0m\u001b[0;36m2\u001b[0m\u001b[0;34m]\u001b[0m\u001b[0;34m)\u001b[0m\u001b[0;34m\u001b[0m\u001b[0;34m\u001b[0m\u001b[0m\n\u001b[0;32m----> 3\u001b[0;31m \u001b[0mtexto\u001b[0m\u001b[0;34m[\u001b[0m\u001b[0;36m2\u001b[0m\u001b[0;34m]\u001b[0m\u001b[0;34m=\u001b[0m\u001b[0;34m\"i\"\u001b[0m\u001b[0;34m\u001b[0m\u001b[0;34m\u001b[0m\u001b[0m\n\u001b[0m\u001b[1;32m      4\u001b[0m \u001b[0mprint\u001b[0m\u001b[0;34m(\u001b[0m\u001b[0mtexto\u001b[0m\u001b[0;34m)\u001b[0m\u001b[0;34m\u001b[0m\u001b[0;34m\u001b[0m\u001b[0m\n",
            "\u001b[0;31mTypeError\u001b[0m: 'str' object does not support item assignment"
          ]
        }
      ]
    },
    {
      "cell_type": "code",
      "source": [
        "texto=\"python\"\n",
        "print(texto[2])\n",
        "texto1=texto.replace(\"t\",\"i\")\n",
        "print(texto,texto1)\n"
      ],
      "metadata": {
        "colab": {
          "base_uri": "https://localhost:8080/"
        },
        "outputId": "ebb0000c-9f84-43da-eb1f-c04f7c74bb54",
        "id": "0Vh8N6r1Rl66"
      },
      "execution_count": 20,
      "outputs": [
        {
          "output_type": "stream",
          "name": "stdout",
          "text": [
            "t\n",
            "python pyihon\n"
          ]
        }
      ]
    },
    {
      "cell_type": "code",
      "source": [
        "texto=\"python\"\n",
        "print(texto[2])\n",
        "texto.replace(\"t\",\"i\")\n",
        "print(texto)\n"
      ],
      "metadata": {
        "colab": {
          "base_uri": "https://localhost:8080/"
        },
        "outputId": "23c546ee-4f56-4602-ae1e-218bafb0cb70",
        "id": "J9BwkYdtSD-R"
      },
      "execution_count": 19,
      "outputs": [
        {
          "output_type": "stream",
          "name": "stdout",
          "text": [
            "t\n",
            "python\n"
          ]
        }
      ]
    },
    {
      "cell_type": "code",
      "source": [
        "texto=\"aereo\"\n",
        "texto=texto.replace(\"a\",\"e\")\n",
        "print(texto)\n",
        "texto=texto.replace(\"e\",\"i\")\n",
        "print(texto)\n",
        "texto=texto.replace(\"i\",\"o\")\n",
        "print(texto)\n",
        "texto=texto.replace(\"o\",\"u\")\n",
        "print(texto)\n",
        "texto=texto.replace(\"u\",\"a\")\n",
        "print(texto)\n",
        "texto=texto.replace(\"a\",\"u\")\n",
        "print(texto)\n",
        "texto=texto.replace(\"u\",\"o\")\n",
        "print(texto)\n",
        "texto=texto.replace(\"o\",\"i\")\n",
        "print(texto)\n",
        "texto=texto.replace(\"i\",\"e\")\n",
        "print(texto)\n",
        "texto=texto.replace(\"e\",\"a\")\n",
        "print(texto)"
      ],
      "metadata": {
        "colab": {
          "base_uri": "https://localhost:8080/"
        },
        "id": "1Dr35HgOSv3b",
        "outputId": "cbe4cb00-76fe-4634-8b17-d7a48c549b80"
      },
      "execution_count": 22,
      "outputs": [
        {
          "output_type": "stream",
          "name": "stdout",
          "text": [
            "eereo\n",
            "iirio\n",
            "ooroo\n",
            "uuruu\n",
            "aaraa\n",
            "uuruu\n",
            "ooroo\n",
            "iirii\n",
            "eeree\n",
            "aaraa\n"
          ]
        }
      ]
    },
    {
      "cell_type": "code",
      "source": [
        "teste1=\"Frase para Testar os Métodos\"\n",
        "#print(teste1.replace(\"Testar\",\"Coisar\"))\n",
        "#print(\"A letra A aparece {} vezes\".format(teste1.count(\"a\")))\n",
        "#print(teste1.split())\n",
        "print(teste1.lower())\n",
        "print(teste1.upper())"
      ],
      "metadata": {
        "colab": {
          "base_uri": "https://localhost:8080/"
        },
        "id": "-SLHY3HMfEaG",
        "outputId": "98b96499-9071-4abf-9e43-c28b8047c733"
      },
      "execution_count": 33,
      "outputs": [
        {
          "output_type": "stream",
          "name": "stdout",
          "text": [
            "frase para testar os métodos\n",
            "FRASE PARA TESTAR OS MÉTODOS\n"
          ]
        }
      ]
    },
    {
      "cell_type": "markdown",
      "source": [
        "**Ord e char**"
      ],
      "metadata": {
        "id": "Jf-uoERZnLa0"
      }
    },
    {
      "cell_type": "code",
      "source": [
        "for i in range(64):\n",
        "  if i<14:\n",
        "      print(\"%3d   |\"% (i),end=\"\")\n",
        "  else:\n",
        "      print(\"%3d %1c |\"% (i,chr(i)),end=\"\")\n",
        "  print(\"%3d %1c |\"% (i+64,chr(i+64)),end=\"\")\n",
        "  print(\"%3d %1c |\"% (i+128,chr(i+124)),end=\"\")\n",
        "  print(\"%3d %1c |\"% (i+192,chr(i+192)))\n",
        "\n"
      ],
      "metadata": {
        "colab": {
          "base_uri": "https://localhost:8080/"
        },
        "id": "h_XlbwYHY3mY",
        "outputId": "16cf4b0d-9094-4e81-c8de-bed5e4866bd1"
      },
      "execution_count": 29,
      "outputs": [
        {
          "output_type": "stream",
          "name": "stdout",
          "text": [
            "  0   | 64 @ |128 | |192 À |\n",
            "  1   | 65 A |129 } |193 Á |\n",
            "  2   | 66 B |130 ~ |194 Â |\n",
            "  3   | 67 C |131  |195 Ã |\n",
            "  4   | 68 D |132  |196 Ä |\n",
            "  5   | 69 E |133  |197 Å |\n",
            "  6   | 70 F |134  |198 Æ |\n",
            "  7   | 71 G |135  |199 Ç |\n",
            "  8   | 72 H |136  |200 È |\n",
            "  9   | 73 I |137  |201 É |\n",
            " 10   | 74 J |138  |202 Ê |\n",
            " 11   | 75 K |139  |203 Ë |\n",
            " 12   | 76 L |140  |204 Ì |\n",
            " 13   | 77 M |141  |205 Í |\n",
            " 14 \u000e | 78 N |142  |206 Î |\n",
            " 15 \u000f | 79 O |143  |207 Ï |\n",
            " 16 \u0010 | 80 P |144  |208 Ð |\n",
            " 17 \u0011 | 81 Q |145  |209 Ñ |\n",
            " 18 \u0012 | 82 R |146  |210 Ò |\n",
            " 19 \u0013 | 83 S |147  |211 Ó |\n",
            " 20 \u0014 | 84 T |148  |212 Ô |\n",
            " 21 \u0015 | 85 U |149  |213 Õ |\n",
            " 22 \u0016 | 86 V |150  |214 Ö |\n",
            " 23 \u0017 | 87 W |151  |215 × |\n",
            " 24 \u0018 | 88 X |152  |216 Ø |\n",
            " 25 \u0019 | 89 Y |153  |217 Ù |\n",
            " 26 \u001a | 90 Z |154  |218 Ú |\n",
            " 27 \u001b | 91 [ |155  |219 Û |\n",
            " 28 \u001c | 92 \\ |156  |220 Ü |\n",
            " 29 \u001d | 93 ] |157  |221 Ý |\n",
            " 30 \u001e | 94 ^ |158  |222 Þ |\n",
            " 31 \u001f | 95 _ |159  |223 ß |\n",
            " 32   | 96 ` |160  |224 à |\n",
            " 33 ! | 97 a |161  |225 á |\n",
            " 34 \" | 98 b |162  |226 â |\n",
            " 35 # | 99 c |163  |227 ã |\n",
            " 36 $ |100 d |164   |228 ä |\n",
            " 37 % |101 e |165 ¡ |229 å |\n",
            " 38 & |102 f |166 ¢ |230 æ |\n",
            " 39 ' |103 g |167 £ |231 ç |\n",
            " 40 ( |104 h |168 ¤ |232 è |\n",
            " 41 ) |105 i |169 ¥ |233 é |\n",
            " 42 * |106 j |170 ¦ |234 ê |\n",
            " 43 + |107 k |171 § |235 ë |\n",
            " 44 , |108 l |172 ¨ |236 ì |\n",
            " 45 - |109 m |173 © |237 í |\n",
            " 46 . |110 n |174 ª |238 î |\n",
            " 47 / |111 o |175 « |239 ï |\n",
            " 48 0 |112 p |176 ¬ |240 ð |\n",
            " 49 1 |113 q |177 ­ |241 ñ |\n",
            " 50 2 |114 r |178 ® |242 ò |\n",
            " 51 3 |115 s |179 ¯ |243 ó |\n",
            " 52 4 |116 t |180 ° |244 ô |\n",
            " 53 5 |117 u |181 ± |245 õ |\n",
            " 54 6 |118 v |182 ² |246 ö |\n",
            " 55 7 |119 w |183 ³ |247 ÷ |\n",
            " 56 8 |120 x |184 ´ |248 ø |\n",
            " 57 9 |121 y |185 µ |249 ù |\n",
            " 58 : |122 z |186 ¶ |250 ú |\n",
            " 59 ; |123 { |187 · |251 û |\n",
            " 60 < |124 | |188 ¸ |252 ü |\n",
            " 61 = |125 } |189 ¹ |253 ý |\n",
            " 62 > |126 ~ |190 º |254 þ |\n",
            " 63 ? |127  |191 » |255 ÿ |\n"
          ]
        }
      ]
    },
    {
      "cell_type": "code",
      "source": [
        "#usando while\n",
        "texto= input(\"Digite uma frase: \")\n",
        "i = 0\n",
        "while i < len(texto):\n",
        "  print(\"%x\"% (ord(texto[i])),end=\" \")\n",
        "  i+=1"
      ],
      "metadata": {
        "id": "mZqNUjcunO1k",
        "colab": {
          "base_uri": "https://localhost:8080/"
        },
        "outputId": "8f378852-4e73-4e89-b3e8-cd3064d5d184"
      },
      "execution_count": 38,
      "outputs": [
        {
          "output_type": "stream",
          "name": "stdout",
          "text": [
            "Digite uma frase: zxyw\n",
            "7a 78 79 77 "
          ]
        }
      ]
    },
    {
      "cell_type": "code",
      "source": [
        "#usando for\n",
        "texto= input(\"Digite uma frase: \")\n",
        "for i in texto:\n",
        "  print(ord(i),end=\" \")"
      ],
      "metadata": {
        "id": "8PCWpxGroB2s"
      },
      "execution_count": null,
      "outputs": []
    },
    {
      "cell_type": "code",
      "source": [
        "#usando while\n",
        "segredo=[65, 99, 104, 111, 117, 33]\n",
        "i = 0\n",
        "while i < len(segredo):\n",
        "  print(\"{0} = {1}\".format(segredo[i],chr(segredo[i])))\n",
        "  i+=1\n",
        "i = 0\n",
        "while i < len(segredo):\n",
        "  print(chr(segredo[i]),end=\"\")\n",
        "  i+=1"
      ],
      "metadata": {
        "id": "kbcsZd48ok08"
      },
      "execution_count": null,
      "outputs": []
    },
    {
      "cell_type": "code",
      "source": [
        "#usando for\n",
        "segredo=[65, 99, 104, 111, 117, 33]\n",
        "for i in segredo:\n",
        "  print(\"{0} = {1}\".format(i,chr(i)))\n",
        "for i in segredo:\n",
        "  print(chr(i),end=\"\")"
      ],
      "metadata": {
        "id": "_d_tM7zAqGpc"
      },
      "execution_count": null,
      "outputs": []
    },
    {
      "cell_type": "markdown",
      "source": [
        "**Criando um novo string a partir de um string de entrada**"
      ],
      "metadata": {
        "id": "kzbUcGPFrS2e"
      }
    },
    {
      "cell_type": "code",
      "source": [
        "#Usando while\n",
        "entrada=input(\"Digite um texto: \")\n",
        "novo1=\"\"\n",
        "novo2=\"\"\n",
        "i = 0\n",
        "while i < len (entrada):\n",
        "  novo1=novo1+entrada[i].upper()\n",
        "  novo2=novo2+entrada[i]+ \", então \"\n",
        "  i+=1\n",
        "print(novo1)\n",
        "print(novo2)\n"
      ],
      "metadata": {
        "id": "NHSwTFgJraOL"
      },
      "execution_count": null,
      "outputs": []
    },
    {
      "cell_type": "code",
      "source": [
        "#Usando for\n",
        "entrada=input(\"Digite um texto: \")\n",
        "novo1=\"\"\n",
        "novo2=\"\"\n",
        "for i in entrada:\n",
        "  novo1=novo1 + i.upper()\n",
        "  novo2=novo2 + i + \", então \"\n",
        "print(novo1)\n",
        "print(novo2)"
      ],
      "metadata": {
        "id": "__iOBgX5tSis"
      },
      "execution_count": null,
      "outputs": []
    },
    {
      "cell_type": "markdown",
      "source": [
        "**Criptografia - Avançando 10 caracteres**"
      ],
      "metadata": {
        "id": "nOqjG1bqs9Sd"
      }
    },
    {
      "cell_type": "code",
      "source": [
        "#Usando while\n",
        "entrada=input(\"Digite um texto: \")\n",
        "saida=\"\"\n",
        "i = 0\n",
        "while i < len (entrada):\n",
        "  saida+=chr(ord(entrada[i])+i)\n",
        "  i+=1\n",
        "print(saida)\n",
        "decrip=\"\"\n",
        "i = 0\n",
        "while i < len (saida):\n",
        "  decrip+=chr(ord(saida[i])-i)\n",
        "  i+=1\n",
        "print(decrip)"
      ],
      "metadata": {
        "id": "bn_Ob6gOs4EN",
        "colab": {
          "base_uri": "https://localhost:8080/"
        },
        "outputId": "d46a5c6e-1bff-4a09-b566-3b3506c83efb"
      },
      "execution_count": 42,
      "outputs": [
        {
          "output_type": "stream",
          "name": "stdout",
          "text": [
            "Digite um texto: abcdef teste\n",
            "acegik&{m|~p\n",
            "abcdef teste\n"
          ]
        }
      ]
    },
    {
      "cell_type": "code",
      "source": [
        "#Usando for\n",
        "entrada=input(\"Digite um texto: \")\n",
        "saida=\"\"\n",
        "for i in entrada:\n",
        "  saida+=chr(ord(i)+10)\n",
        "print(saida)"
      ],
      "metadata": {
        "id": "POcPXf80uQEk"
      },
      "execution_count": null,
      "outputs": []
    },
    {
      "cell_type": "markdown",
      "source": [
        "**Escrevendo de trás para frente**"
      ],
      "metadata": {
        "id": "yhlnvIpJun8L"
      }
    },
    {
      "cell_type": "code",
      "source": [
        "#Usando while\n",
        "entrada=input(\"Digite um texto: \")\n",
        "saida=\"\"\n",
        "i = 0\n",
        "while i < len (entrada):\n",
        "  saida+=chr(ord(entrada[i])+0)\n",
        "  i+=1\n",
        "print(saida)"
      ],
      "metadata": {
        "id": "D1A2_Q4Au-Nr",
        "colab": {
          "base_uri": "https://localhost:8080/"
        },
        "outputId": "fc9f9219-5b3f-452f-a410-a0a3523c19aa"
      },
      "execution_count": 43,
      "outputs": [
        {
          "output_type": "stream",
          "name": "stdout",
          "text": [
            "Digite um texto: abcdef\n",
            "abcdef\n"
          ]
        }
      ]
    },
    {
      "cell_type": "code",
      "source": [
        "#Usando for\n",
        "entrada=input(\"Digite um texto: \")\n",
        "saida=\"\"\n",
        "for i in range (len(entrada)-1,-1,-1):\n",
        "  saida+=chr(ord(entrada[i])+1)\n",
        "print(saida)"
      ],
      "metadata": {
        "colab": {
          "base_uri": "https://localhost:8080/"
        },
        "id": "geHnaI8muuIc",
        "outputId": "dec66dc0-1f21-45de-e6d0-a43f131ef584"
      },
      "execution_count": 48,
      "outputs": [
        {
          "output_type": "stream",
          "name": "stdout",
          "text": [
            "Digite um texto: batata e banana\n",
            "bobobc!f!bububc\n"
          ]
        }
      ]
    }
  ]
}