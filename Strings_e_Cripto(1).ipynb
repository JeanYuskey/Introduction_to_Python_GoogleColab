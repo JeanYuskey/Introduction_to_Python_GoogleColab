{
  "nbformat": 4,
  "nbformat_minor": 0,
  "metadata": {
    "colab": {
      "provenance": []
    },
    "kernelspec": {
      "name": "python3",
      "display_name": "Python 3"
    },
    "language_info": {
      "name": "python"
    }
  },
  "cells": [
    {
      "cell_type": "markdown",
      "source": [
        "**Exibição de um string carcatere a caractere**"
      ],
      "metadata": {
        "id": "mneM1NXWfFmG"
      }
    },
    {
      "cell_type": "code",
      "source": [
        "#Usando while\n",
        "i=0\n",
        "texto=input(\"Digite um texto: \")\n",
        "while i < len(texto):\n",
        "  print(\"Posição [{0}]: {1}\".format(i,texto[i]))\n",
        "  i+=1"
      ],
      "metadata": {
        "id": "tFs6wcVTfEdG"
      },
      "execution_count": null,
      "outputs": []
    },
    {
      "cell_type": "code",
      "source": [
        "#Usando for\n",
        "texto=input(\"Digite um texto: \")\n",
        "for i in range (len(texto)):\n",
        "  print(\"Posição [{0}]: {1}\".format(i,texto[i]))"
      ],
      "metadata": {
        "id": "hhDi67zJgGOs"
      },
      "execution_count": null,
      "outputs": []
    },
    {
      "cell_type": "markdown",
      "source": [
        "**Concatenação e Multiplicação de String**"
      ],
      "metadata": {
        "id": "LJ39FdabeJWu"
      }
    },
    {
      "cell_type": "code",
      "execution_count": null,
      "metadata": {
        "id": "Hw7m8tG_eIgL"
      },
      "outputs": [],
      "source": [
        "string1 = \"Aprendendo\"\n",
        "string2 = \"Python\"\n",
        "print(string1+string2)\n",
        "print(string1+\" \"+string2)\n",
        "print(3*(string1+\" \"+string2 + \" - \"))\n",
        "print(\"Primeiro string: {} caracteres\".format(len(string1)))\n",
        "print(\"Segundo string: {} caracteres\".format(len(string2)))"
      ]
    },
    {
      "cell_type": "markdown",
      "source": [
        "**Métodos para Manipular strings**"
      ],
      "metadata": {
        "id": "AT0p5m_kgcxM"
      }
    },
    {
      "cell_type": "code",
      "source": [
        "teste1=\"Frase para Testar os Métodos\"\n",
        "print(teste1.replace(\"Testar\",\"Coisar\"))\n",
        "print(\"A letra A aparece {} vezes\".format(teste1.count(\"a\")))\n",
        "print(teste1.split())\n",
        "print(teste1.lower())\n",
        "print(teste1.upper())"
      ],
      "metadata": {
        "colab": {
          "base_uri": "https://localhost:8080/"
        },
        "id": "-SLHY3HMfEaG",
        "outputId": "3375755f-61d9-4924-e1ef-e230bf5ea1fd"
      },
      "execution_count": 13,
      "outputs": [
        {
          "output_type": "stream",
          "name": "stdout",
          "text": [
            "Frase para Coisar os Métodos\n",
            "A letra A aparece 4 vezes\n",
            "['Frase', 'para', 'Testar', 'os', 'Métodos']\n",
            "frase para testar os métodos\n",
            "FRASE PARA TESTAR OS MÉTODOS\n"
          ]
        }
      ]
    },
    {
      "cell_type": "markdown",
      "source": [
        "**Ord e char**"
      ],
      "metadata": {
        "id": "Jf-uoERZnLa0"
      }
    },
    {
      "cell_type": "code",
      "source": [
        "#usando while\n",
        "texto= input(\"Digite uma frase: \")\n",
        "i = 0\n",
        "while i < len(texto):\n",
        "  print(ord(texto[i]),end=\" \")\n",
        "  i+=1"
      ],
      "metadata": {
        "id": "mZqNUjcunO1k"
      },
      "execution_count": null,
      "outputs": []
    },
    {
      "cell_type": "code",
      "source": [
        "#usando for\n",
        "texto= input(\"Digite uma frase: \")\n",
        "for i in texto:\n",
        "  print(ord(i),end=\" \")"
      ],
      "metadata": {
        "id": "8PCWpxGroB2s"
      },
      "execution_count": null,
      "outputs": []
    },
    {
      "cell_type": "code",
      "source": [
        "#usando while\n",
        "segredo=[65, 99, 104, 111, 117, 33]\n",
        "i = 0\n",
        "while i < len(segredo):\n",
        "  print(\"{0} = {1}\".format(segredo[i],chr(segredo[i])))\n",
        "  i+=1\n",
        "i = 0\n",
        "while i < len(segredo):\n",
        "  print(chr(segredo[i]),end=\"\")\n",
        "  i+=1"
      ],
      "metadata": {
        "id": "kbcsZd48ok08"
      },
      "execution_count": null,
      "outputs": []
    },
    {
      "cell_type": "code",
      "source": [
        "#usando for\n",
        "segredo=[65, 99, 104, 111, 117, 33]\n",
        "for i in segredo:\n",
        "  print(\"{0} = {1}\".format(i,chr(i)))\n",
        "for i in segredo:\n",
        "  print(chr(i),end=\"\")"
      ],
      "metadata": {
        "id": "_d_tM7zAqGpc"
      },
      "execution_count": null,
      "outputs": []
    },
    {
      "cell_type": "markdown",
      "source": [
        "**Criando um novo string a partir de um string de entrada**"
      ],
      "metadata": {
        "id": "kzbUcGPFrS2e"
      }
    },
    {
      "cell_type": "code",
      "source": [
        "#Usando while\n",
        "entrada=input(\"Digite um texto: \")\n",
        "novo1=\"\"\n",
        "novo2=\"\"\n",
        "i = 0\n",
        "while i < len (entrada):\n",
        "  novo1=novo1+entrada[i].upper()\n",
        "  novo2=novo2+entrada[i]+ \", então \"\n",
        "  i+=1\n",
        "print(novo1)\n",
        "print(novo2)\n"
      ],
      "metadata": {
        "id": "NHSwTFgJraOL"
      },
      "execution_count": null,
      "outputs": []
    },
    {
      "cell_type": "code",
      "source": [
        "#Usando for\n",
        "entrada=input(\"Digite um texto: \")\n",
        "novo1=\"\"\n",
        "novo2=\"\"\n",
        "for i in entrada:\n",
        "  novo1=novo1 + i.upper()\n",
        "  novo2=novo2 + i + \", então \"\n",
        "print(novo1)\n",
        "print(novo2)"
      ],
      "metadata": {
        "id": "__iOBgX5tSis"
      },
      "execution_count": null,
      "outputs": []
    },
    {
      "cell_type": "markdown",
      "source": [
        "**Criptografia - Avançando 10 caracteres**"
      ],
      "metadata": {
        "id": "nOqjG1bqs9Sd"
      }
    },
    {
      "cell_type": "code",
      "source": [
        "#Usando while\n",
        "entrada=input(\"Digite um texto: \")\n",
        "saida=\"\"\n",
        "i = 0\n",
        "while i < len (entrada):\n",
        "  saida+=chr(ord(entrada[i])+10)\n",
        "  i+=1\n",
        "print(saida)"
      ],
      "metadata": {
        "id": "bn_Ob6gOs4EN"
      },
      "execution_count": null,
      "outputs": []
    },
    {
      "cell_type": "code",
      "source": [
        "#Usando for\n",
        "entrada=input(\"Digite um texto: \")\n",
        "saida=\"\"\n",
        "for i in entrada:\n",
        "  saida+=chr(ord(i)+10)\n",
        "print(saida)"
      ],
      "metadata": {
        "id": "POcPXf80uQEk"
      },
      "execution_count": null,
      "outputs": []
    },
    {
      "cell_type": "markdown",
      "source": [
        "**Escrevendo de trás para frente**"
      ],
      "metadata": {
        "id": "yhlnvIpJun8L"
      }
    },
    {
      "cell_type": "code",
      "source": [
        "#Usando while\n",
        "entrada=input(\"Digite um texto: \")\n",
        "saida=\"\"\n",
        "i = 0\n",
        "while i < len (entrada):\n",
        "  saida+=chr(ord(entrada[i])+10)\n",
        "  i+=1\n",
        "print(saida)"
      ],
      "metadata": {
        "id": "D1A2_Q4Au-Nr"
      },
      "execution_count": null,
      "outputs": []
    },
    {
      "cell_type": "code",
      "source": [
        "#Usando for\n",
        "entrada=input(\"Digite um texto: \")\n",
        "saida=\"\"\n",
        "for i in range (len(entrada)-1,0,-1):\n",
        "  saida+=entrada[i]\n",
        "print(saida)"
      ],
      "metadata": {
        "colab": {
          "base_uri": "https://localhost:8080/"
        },
        "id": "geHnaI8muuIc",
        "outputId": "8ff7662a-1f47-4e90-bc46-3a67296a86e9"
      },
      "execution_count": 41,
      "outputs": [
        {
          "output_type": "stream",
          "name": "stdout",
          "text": [
            "Digite um texto: batata\n",
            "atata\n"
          ]
        }
      ]
    }
  ]
}