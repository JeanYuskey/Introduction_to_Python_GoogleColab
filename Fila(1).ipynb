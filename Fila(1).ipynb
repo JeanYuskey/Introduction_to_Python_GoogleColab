{
  "nbformat": 4,
  "nbformat_minor": 0,
  "metadata": {
    "colab": {
      "provenance": [],
      "collapsed_sections": []
    },
    "kernelspec": {
      "name": "python3",
      "display_name": "Python 3"
    },
    "language_info": {
      "name": "python"
    }
  },
  "cells": [
    {
      "cell_type": "code",
      "execution_count": null,
      "metadata": {
        "id": "cP2sP_hFgbDA"
      },
      "outputs": [],
      "source": [
        "v=['','','','','']\n"
      ]
    },
    {
      "cell_type": "markdown",
      "source": [
        "```text\n",
        "\n",
        "funcao incr(n:inteiro):inteiro\n",
        "inicio\n",
        "\tse n=5 entao\n",
        "\t\tretorne 1\n",
        "\tsenao\n",
        "\t\tretorne n+1\n",
        "\tfimse\n",
        "fimfuncao\n",
        "\n",
        "\n"
      ],
      "metadata": {
        "id": "BMKMNPuZhZFA"
      }
    },
    {
      "cell_type": "markdown",
      "source": [
        "```text\n",
        "procedimento insere(nome)\n",
        "inicio\n",
        "\tse incr(fim)=ini entao \n",
        "\t\tescreva(\"Fila Cheia\")\n",
        "\tsenao\n",
        "\t\tnovo<-incr(fim)\n",
        "\t\tv[novo]<-nome\n",
        "\t\tfim<-novo\n",
        "\t\tse ini=0 entao\n",
        "\t\t\t\tini=fim\n",
        "\t\tfimse\n",
        "\tfimse\n",
        "fimprocedimento\n"
      ],
      "metadata": {
        "id": "Y9_qTVS6jjEB"
      }
    },
    {
      "cell_type": "markdown",
      "source": [
        "```text\n",
        "\n",
        "funcao chama():cadeia\n",
        "inicio\n",
        "\t\t\tnome<-v[ini]\n",
        "\t\t\tse ini=fim entao\n",
        "\t\t\t\tescreva(\"Fila vazia\")\n",
        "\t\t\t\tini<-0\n",
        "\t\t\t\tfim<-0\n",
        "\t\t\tsenao\n",
        "\t\t\t\tini<-incr(ini)\n",
        "\t\t\tfimse\n",
        "\t\t  retorne nome\n",
        "fimfuncao\n"
      ],
      "metadata": {
        "id": "5RP1pItxkM14"
      }
    },
    {
      "cell_type": "markdown",
      "source": [
        "```text\n",
        "\n",
        "inicio\n",
        "\tini<-0\n",
        "\tfim<-0\n",
        "\trepita\n",
        "\t\tescreva(\"1-insere\")\n",
        "\t\tescreva(\"2- Chama\")\n",
        "\t\tescreva(\"3-sair\")\n",
        "\t\tleia (opcao)\n",
        "\t\tescolha (opcao)\n",
        "\t\tcaso 1\n",
        "\t\t\tleia(nome)\n",
        "\t\t\tinsere(nome)\n",
        "\t\tcaso 2\n",
        "\t\t\tescreva(chama())\n",
        "\t\tfimescolha\n",
        "\tate opcao=3\n",
        "fim algoritmo\n"
      ],
      "metadata": {
        "id": "OnEqrlIHlSai"
      }
    }
  ]
}