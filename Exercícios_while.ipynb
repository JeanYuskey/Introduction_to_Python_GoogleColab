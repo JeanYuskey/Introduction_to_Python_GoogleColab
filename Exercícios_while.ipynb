{
  "nbformat": 4,
  "nbformat_minor": 0,
  "metadata": {
    "colab": {
      "provenance": []
    },
    "kernelspec": {
      "name": "python3",
      "display_name": "Python 3"
    },
    "language_info": {
      "name": "python"
    }
  },
  "cells": [
    {
      "cell_type": "markdown",
      "source": [
        "Faça um programa que receba um número natural e calcule e mostre o fatorial deste número.\n",
        "\n",
        "\n",
        "**N! = 1 x 2  x 3 x ... x (N-1) x N**\n",
        "\n",
        "Exemplos:\n",
        "\n",
        "4! = 1 x 2 x 3 x 4 = 24\n",
        "\n",
        "6! = 1 x 2 x 3 x 4 x 5 x 6 = 720\n",
        "\n",
        "*Por definição: 0! = 1*\n",
        "\n"
      ],
      "metadata": {
        "id": "2BalHQP5mihj"
      }
    },
    {
      "cell_type": "code",
      "source": [],
      "metadata": {
        "id": "xLXQaOsfmjXr"
      },
      "execution_count": null,
      "outputs": []
    },
    {
      "cell_type": "markdown",
      "source": [
        "**Faça um programa que peça a senha para o usuário (que será pré-definida como “UNIP1234”). O programa irá repetidamente pedir a senha até que a senha correta seja digitada.** "
      ],
      "metadata": {
        "id": "L8FISk_slPR8"
      }
    },
    {
      "cell_type": "code",
      "execution_count": null,
      "metadata": {
        "id": "z8b8HCxGlKXu"
      },
      "outputs": [],
      "source": []
    },
    {
      "cell_type": "markdown",
      "source": [
        "**Modificar o exercício anterior para que haja um limite de 5 tentativas antes do programa se encerrar.**"
      ],
      "metadata": {
        "id": "vxavwqfAlp48"
      }
    },
    {
      "cell_type": "code",
      "source": [],
      "metadata": {
        "id": "dhERlStMloqN"
      },
      "execution_count": null,
      "outputs": []
    },
    {
      "cell_type": "markdown",
      "source": [
        "**Faça um programa que receba 7 números e apresente a média aritmética deles. O programa deve usar o comando while e apenas uma variável para receber as entradas.**"
      ],
      "metadata": {
        "id": "QHgZ4y_DmCVb"
      }
    },
    {
      "cell_type": "code",
      "source": [],
      "metadata": {
        "id": "AgwhfmKgmNLz"
      },
      "execution_count": null,
      "outputs": []
    },
    {
      "cell_type": "markdown",
      "source": [
        "**Modificar o exercício anterior para que a quantidade de números que será recebida para calcular a média seja informada pelo usuário, ao início do programa.**\n"
      ],
      "metadata": {
        "id": "3YDt5pCPmN7s"
      }
    },
    {
      "cell_type": "code",
      "source": [],
      "metadata": {
        "id": "27hdhP2bmZDL"
      },
      "execution_count": null,
      "outputs": []
    },
    {
      "cell_type": "markdown",
      "source": [
        "Faça um programa que receba um número natural  e indique quantos bits ele irá ocupar quando for convertido para um número binário (número de dígitos do número binário) Por exemplo:\n",
        "\n",
        "**(11)10 = (1011)2  possui 4 bits/dígitos**\n",
        "\n",
        "**(36)10 = (100100)2  possui 6 bits/dígitos negrito** "
      ],
      "metadata": {
        "id": "WRhxg3kEnFFT"
      }
    },
    {
      "cell_type": "code",
      "source": [],
      "metadata": {
        "id": "_IKyg_p4nhXl"
      },
      "execution_count": null,
      "outputs": []
    },
    {
      "cell_type": "markdown",
      "source": [
        "Faça um programa que receba um número natural  maior que zero e verifique se ele é um número primo. Um número primo é divisível apenas por 1 e por ele mesmo.\n",
        "\n",
        "Por definição, o número 1 não é primo, pois é um quadrado perfeito.\n",
        "\n",
        "Os primeiros números primos são: 2, 3, 5, 7, 11, 13, 17, 19, 23... "
      ],
      "metadata": {
        "id": "MxpYNYxlnq4c"
      }
    },
    {
      "cell_type": "code",
      "source": [],
      "metadata": {
        "id": "vxmYzPAMn2us"
      },
      "execution_count": null,
      "outputs": []
    },
    {
      "cell_type": "markdown",
      "source": [
        "Faça um programa que receba dois naturais positivos e identifique o Mínimo Múltiplo Comum (MMC) entre eles.\n",
        "\n",
        "**Dica:** o MMC será, no mínimo, o maior de ambos os números "
      ],
      "metadata": {
        "id": "o8mek8iZn39K"
      }
    },
    {
      "cell_type": "code",
      "source": [],
      "metadata": {
        "id": "gvGaetQLoF3s"
      },
      "execution_count": null,
      "outputs": []
    }
  ]
}